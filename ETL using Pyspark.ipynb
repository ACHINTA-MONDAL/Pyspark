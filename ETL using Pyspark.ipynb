{
 "cells": [
  {
   "cell_type": "code",
   "execution_count": 15,
   "metadata": {},
   "outputs": [],
   "source": [
    "import os, sys\n",
    "from pyspark.sql import SparkSession\n",
    "from pyspark.sql.window import Window\n",
    "from pyspark.sql.types import *\n",
    "from pyspark.sql.functions import *"
   ]
  },
  {
   "cell_type": "code",
   "execution_count": 7,
   "metadata": {},
   "outputs": [],
   "source": [
    "import pyspark\n",
    "from pyspark.sql import SparkSession\n",
    "spark=SparkSession.builder.appName(\"ETL\").getOrCreate()"
   ]
  },
  {
   "cell_type": "code",
   "execution_count": 17,
   "metadata": {},
   "outputs": [],
   "source": [
    "spark = SparkSession.builder\\\n",
    "                .master(\"local[*]\")\\\n",
    "                .appName(\"ETL\")\\\n",
    "                .config(\"spark.executor.logs.rolling.time.interval\", \"daily\")\\\n",
    "                .getOrCreate()"
   ]
  },
  {
   "cell_type": "code",
   "execution_count": 50,
   "metadata": {},
   "outputs": [],
   "source": [
    "datasetDir = \"hdfs://localhost:9000/\""
   ]
  },
  {
   "cell_type": "code",
   "execution_count": 51,
   "metadata": {},
   "outputs": [],
   "source": [
    "file = datasetDir + \"data/higgs-social_network.edgelist.gz\""
   ]
  },
  {
   "cell_type": "code",
   "execution_count": 52,
   "metadata": {},
   "outputs": [
    {
     "data": {
      "text/plain": [
       "'hdfs://localhost:9000/'"
      ]
     },
     "execution_count": 52,
     "metadata": {},
     "output_type": "execute_result"
    }
   ],
   "source": [
    "datasetDir"
   ]
  },
  {
   "cell_type": "code",
   "execution_count": 53,
   "metadata": {},
   "outputs": [],
   "source": [
    "schema = StructType([StructField(\"follower\", IntegerType()), StructField(\"followed\", IntegerType())])"
   ]
  },
  {
   "cell_type": "code",
   "execution_count": 54,
   "metadata": {},
   "outputs": [],
   "source": [
    "socialDF = spark.read.csv(path=file, sep=\" \", schema=schema)"
   ]
  },
  {
   "cell_type": "code",
   "execution_count": 55,
   "metadata": {},
   "outputs": [],
   "source": [
    "file = datasetDir + \"data/higgs-retweet_network.edgelist.gz\"\n",
    "schema = StructType([StructField(\"tweeter\", IntegerType()), StructField(\"tweeted\", IntegerType()), StructField(\"occur\", IntegerType())])\n",
    "retweetDF = spark.read.csv(path=file, sep=\" \", schema=schema)"
   ]
  },
  {
   "cell_type": "code",
   "execution_count": 56,
   "metadata": {},
   "outputs": [],
   "source": [
    "file = datasetDir + \"data/higgs-reply_network.edgelist.gz\"\n",
    "schema = StructType([StructField(\"replier\", IntegerType()), StructField(\"replied\", IntegerType()), StructField(\"occur\", IntegerType())])\n",
    "replyDF = spark.read.csv(path=file, sep=\" \", schema=schema)"
   ]
  },
  {
   "cell_type": "code",
   "execution_count": 57,
   "metadata": {},
   "outputs": [],
   "source": [
    "file = datasetDir + \"data/higgs-mention_network.edgelist.gz\"\n",
    "schema = StructType([StructField(\"mentioner\", IntegerType()), StructField(\"mentioned\", IntegerType()), StructField(\"occur\", IntegerType())])\n",
    "mentionDF = spark.read.csv(path=file, sep=\" \", schema=schema)"
   ]
  },
  {
   "cell_type": "code",
   "execution_count": 58,
   "metadata": {},
   "outputs": [],
   "source": [
    "file = datasetDir + \"data/higgs-activity_time.txt.gz\"\n",
    "schema = StructType([StructField(\"userA\", IntegerType()), \\\n",
    "                     StructField(\"userB\", IntegerType()), \\\n",
    "                     StructField(\"timestamp\", IntegerType()), \\\n",
    "                    StructField(\"interaction\", StringType())])\n",
    "                    #Interaction can be: RT (retweet), MT (mention) or RE (reply)\n",
    "activityDF = spark.read.csv(path=file, sep=\" \", schema=schema)\n"
   ]
  },
  {
   "cell_type": "markdown",
   "metadata": {},
   "source": [
    "# Convert CSV's dataframes to Apache Parquet files"
   ]
  },
  {
   "cell_type": "code",
   "execution_count": 59,
   "metadata": {},
   "outputs": [],
   "source": [
    "socialDF.write.save(datasetDir + \"data/higgs-social_network.parquet\")\n",
    "retweetDF.write.save(datasetDir + \"data/higgs-retweet_network.parquet\")\n",
    "replyDF.write.save(datasetDir + \"data/higgs-reply_network.parquet\")\n",
    "mentionDF.write.save(datasetdir + \"data/higgs-mention_network.parquet\")\n",
    "activityDF.write.save(datasetDir + \"data/higgs-activity_time.parquet\")\n",
    "\n"
   ]
  },
  {
   "cell_type": "markdown",
   "metadata": {},
   "source": [
    "# Load the parquet files into new dataframes"
   ]
  },
  {
   "cell_type": "code",
   "execution_count": 60,
   "metadata": {},
   "outputs": [],
   "source": [
    "socialDFpq = spark.read.load(datasetDir + \"data/higgs-social_network.parquet\")\n",
    "retweetDFpq = spark.read.load(datasetDir + \"data/higgs-retweet_network.parquet\")\n",
    "replyDFpq = spark.read.load(datasetDir + \"data/higgs-reply_network.parquet\")\n",
    "mentionDFpq = spark.read.load(datasetDir + \"data/higgs-mention_network.parquet\")\n",
    "activityDFpq = spark.read.load(datasetDir + \"data/higgs-activity_time.parquet\")"
   ]
  },
  {
   "cell_type": "code",
   "execution_count": 61,
   "metadata": {},
   "outputs": [
    {
     "name": "stdout",
     "output_type": "stream",
     "text": [
      "root\n",
      " |-- follower: integer (nullable = true)\n",
      " |-- followed: integer (nullable = true)\n",
      "\n"
     ]
    },
    {
     "data": {
      "text/plain": [
       "StructType(List(StructField(follower,IntegerType,true),StructField(followed,IntegerType,true)))"
      ]
     },
     "execution_count": 61,
     "metadata": {},
     "output_type": "execute_result"
    }
   ],
   "source": [
    "socialDFpq.printSchema()\n",
    "socialDFpq.schema"
   ]
  },
  {
   "cell_type": "code",
   "execution_count": 62,
   "metadata": {},
   "outputs": [
    {
     "name": "stdout",
     "output_type": "stream",
     "text": [
      "+--------+--------+\n",
      "|follower|followed|\n",
      "+--------+--------+\n",
      "|       1|       2|\n",
      "|       1|       3|\n",
      "|       1|       4|\n",
      "+--------+--------+\n",
      "only showing top 3 rows\n",
      "\n",
      "+-------+-------+-----+\n",
      "|tweeter|tweeted|occur|\n",
      "+-------+-------+-----+\n",
      "| 298960| 105232|    1|\n",
      "|  95688|   3393|    1|\n",
      "| 353237|  62217|    1|\n",
      "+-------+-------+-----+\n",
      "only showing top 3 rows\n",
      "\n",
      "+-------+-------+-----+\n",
      "|replier|replied|occur|\n",
      "+-------+-------+-----+\n",
      "| 161345|   8614|    1|\n",
      "| 428368|  11792|    1|\n",
      "|  77904|  10701|    1|\n",
      "+-------+-------+-----+\n",
      "only showing top 3 rows\n",
      "\n",
      "+---------+---------+-----+\n",
      "|mentioner|mentioned|occur|\n",
      "+---------+---------+-----+\n",
      "|   316609|     5011|    1|\n",
      "|   439696|    12389|    1|\n",
      "|    60059|     6929|    1|\n",
      "+---------+---------+-----+\n",
      "only showing top 3 rows\n",
      "\n",
      "+------+------+----------+-----------+\n",
      "| userA| userB| timestamp|interaction|\n",
      "+------+------+----------+-----------+\n",
      "|223789|213163|1341100972|         MT|\n",
      "|223789|213163|1341100972|         RE|\n",
      "|376989| 50329|1341101181|         RT|\n",
      "+------+------+----------+-----------+\n",
      "only showing top 3 rows\n",
      "\n"
     ]
    }
   ],
   "source": [
    "socialDFpq.show(3)\n",
    "retweetDFpq.show(3)\n",
    "replyDFpq.show(3)\n",
    "mentionDFpq.show(3)\n",
    "activityDFpq.show(3)"
   ]
  },
  {
   "cell_type": "markdown",
   "metadata": {},
   "source": [
    "# Spark SQL using DataFrames API"
   ]
  },
  {
   "cell_type": "code",
   "execution_count": 64,
   "metadata": {},
   "outputs": [
    {
     "name": "stdout",
     "output_type": "stream",
     "text": [
      "+--------+--------+\n",
      "|followed|follower|\n",
      "+--------+--------+\n",
      "|    1503|   51386|\n",
      "|     206|   48414|\n",
      "|      88|   45221|\n",
      "|     138|   44188|\n",
      "|    1062|   40120|\n",
      "+--------+--------+\n",
      "only showing top 5 rows\n",
      "\n"
     ]
    }
   ],
   "source": [
    "#USERS who have most followers\n",
    "socialDFpq.groupBy(\"followed\").agg(count(\"followed\").alias(\"follower\")).orderBy(desc(\"follower\")).show(5)"
   ]
  },
  {
   "cell_type": "code",
   "execution_count": 66,
   "metadata": {},
   "outputs": [
    {
     "name": "stdout",
     "output_type": "stream",
     "text": [
      "+---------+---------+\n",
      "|mentioned|mentiones|\n",
      "+---------+---------+\n",
      "|       88|    11953|\n",
      "|      677|     3906|\n",
      "|     2417|     2533|\n",
      "|    59195|     1601|\n",
      "|     3998|     1587|\n",
      "+---------+---------+\n",
      "only showing top 5 rows\n",
      "\n"
     ]
    }
   ],
   "source": [
    "#users who have most mentions\n",
    "mentionDF.groupBy(\"mentioned\").agg(count(\"occur\").alias(\"mentiones\")).orderBy(desc(\"mentiones\")).show(5)"
   ]
  },
  {
   "cell_type": "code",
   "execution_count": 67,
   "metadata": {},
   "outputs": [
    {
     "name": "stdout",
     "output_type": "stream",
     "text": [
      "+--------+---------+--------+\n",
      "|followed|followers|mentions|\n",
      "+--------+---------+--------+\n",
      "|    1503|    51386|     150|\n",
      "|     206|    48414|     397|\n",
      "|      88|    45221|   15687|\n",
      "|     138|    44188|     347|\n",
      "|    1062|    40120|      84|\n",
      "+--------+---------+--------+\n",
      "\n"
     ]
    }
   ],
   "source": [
    "# Of the top 5 followed users, how many mentions has each one?\n",
    "\n",
    "# top_f contains \"top 5 users who have most followers\"\n",
    "top_f = socialDFpq.groupBy(\"followed\").agg(count(\"follower\").alias(\"followers\")).orderBy(desc(\"followers\")).limit(5)\n",
    "\n",
    "top_f.join(mentionDFpq, top_f.followed == mentionDFpq.mentioned)\\\n",
    "    .groupBy(top_f.followed, top_f.followers)\\\n",
    "        .agg(sum(mentionDFpq.occur).alias(\"mentions\"))\\\n",
    "    .orderBy(desc(\"followers\")).show()"
   ]
  },
  {
   "cell_type": "markdown",
   "metadata": {},
   "source": [
    "# Spark SQL using SQL language"
   ]
  },
  {
   "cell_type": "code",
   "execution_count": 68,
   "metadata": {},
   "outputs": [],
   "source": [
    "# create temporary views so we can use SQL statements\n",
    "socialDFpq.createOrReplaceTempView(\"social\")\n",
    "retweetDFpq.createOrReplaceTempView(\"retweet\")\n",
    "replyDFpq.createOrReplaceTempView(\"reply\")\n",
    "mentionDFpq.createOrReplaceTempView(\"mention\")\n",
    "activityDFpq.createOrReplaceTempView(\"activity\")"
   ]
  },
  {
   "cell_type": "code",
   "execution_count": 69,
   "metadata": {},
   "outputs": [
    {
     "name": "stdout",
     "output_type": "stream",
     "text": [
      "+--------+---------+\n",
      "|followed|followers|\n",
      "+--------+---------+\n",
      "|    1503|    51386|\n",
      "|     206|    48414|\n",
      "|      88|    45221|\n",
      "|     138|    44188|\n",
      "|    1062|    40120|\n",
      "+--------+---------+\n",
      "only showing top 5 rows\n",
      "\n",
      "+---------+--------+\n",
      "|mentioned|mentions|\n",
      "+---------+--------+\n",
      "|       88|   11953|\n",
      "|      677|    3906|\n",
      "|     2417|    2533|\n",
      "|    59195|    1601|\n",
      "|     3998|    1587|\n",
      "+---------+--------+\n",
      "only showing top 5 rows\n",
      "\n"
     ]
    }
   ],
   "source": [
    "# Users who have most followers\n",
    "spark.sql(\"select followed, count(follower) as followers from social group by followed order by followers desc\").show(5)\n",
    "\n",
    "# Users who have most mentions\n",
    "spark.sql(\"select mentioned, count(occur) as mentions from mention group by mentioned order by mentions desc\").show(5)"
   ]
  },
  {
   "cell_type": "code",
   "execution_count": 70,
   "metadata": {},
   "outputs": [
    {
     "name": "stdout",
     "output_type": "stream",
     "text": [
      "+--------+---------+--------+\n",
      "|followed|followers|mentions|\n",
      "+--------+---------+--------+\n",
      "|    1503|    51386|     150|\n",
      "|     206|    48414|     397|\n",
      "|      88|    45221|   15687|\n",
      "|     138|    44188|     347|\n",
      "|    1062|    40120|      84|\n",
      "+--------+---------+--------+\n",
      "\n"
     ]
    }
   ],
   "source": [
    "\n",
    "\n",
    "# Of the top 5 followed users, how many mentions has each one?\n",
    "spark.sql(\"\"\"\n",
    "select 5_top_f.followed, 5_top_f.followers, sum(m.occur) as mentions\n",
    "    from \n",
    "        -- subquery that contains top 5 of followed users\n",
    "        (select followed, count(follower) as followers from social group by followed order by followers desc limit 5) 5_top_f, \n",
    "        mention as m\n",
    "    where 5_top_f.followed = m.mentioned\n",
    "    group by 5_top_f.followed, followers\n",
    "    order by followers desc\n",
    "        \"\"\").show()\n",
    "\n"
   ]
  },
  {
   "cell_type": "markdown",
   "metadata": {},
   "source": [
    "# Performance testing"
   ]
  },
  {
   "cell_type": "markdown",
   "metadata": {},
   "source": [
    "# GZIP Compressed CSV file vs Parquet file"
   ]
  },
  {
   "cell_type": "code",
   "execution_count": 71,
   "metadata": {},
   "outputs": [
    {
     "name": "stdout",
     "output_type": "stream",
     "text": [
      "+--------+---------+\n",
      "|followed|followers|\n",
      "+--------+---------+\n",
      "|    1503|    51386|\n",
      "|     206|    48414|\n",
      "|      88|    45221|\n",
      "|     138|    44188|\n",
      "|    1062|    40120|\n",
      "+--------+---------+\n",
      "only showing top 5 rows\n",
      "\n",
      "CPU times: user 0 ns, sys: 6.81 ms, total: 6.81 ms\n",
      "Wall time: 19.3 s\n"
     ]
    }
   ],
   "source": [
    "%%time\n",
    "# GZIP Compressed CSV\n",
    "socialDF.groupBy(\"followed\").agg(count(\"followed\").alias(\"followers\")).orderBy(desc(\"followers\")).show(5)\n"
   ]
  },
  {
   "cell_type": "code",
   "execution_count": 72,
   "metadata": {},
   "outputs": [
    {
     "name": "stdout",
     "output_type": "stream",
     "text": [
      "+--------+---------+\n",
      "|followed|followers|\n",
      "+--------+---------+\n",
      "|    1503|    51386|\n",
      "|     206|    48414|\n",
      "|      88|    45221|\n",
      "|     138|    44188|\n",
      "|    1062|    40120|\n",
      "+--------+---------+\n",
      "only showing top 5 rows\n",
      "\n",
      "CPU times: user 5.3 ms, sys: 0 ns, total: 5.3 ms\n",
      "Wall time: 5.38 s\n"
     ]
    }
   ],
   "source": [
    "%%time\n",
    "# Parquet file\n",
    "socialDFpq.groupBy(\"followed\").agg(count(\"followed\").alias(\"followers\")).orderBy(desc(\"followers\")).show(5)\n"
   ]
  },
  {
   "cell_type": "markdown",
   "metadata": {},
   "source": [
    "# Cached DF vs not cached DF"
   ]
  },
  {
   "cell_type": "markdown",
   "metadata": {},
   "source": [
    "This time we will cache the 2 previous dataframes (socialDF and socialDFpq) and see how faster is."
   ]
  },
  {
   "cell_type": "code",
   "execution_count": 73,
   "metadata": {},
   "outputs": [
    {
     "data": {
      "text/plain": [
       "DataFrame[follower: int, followed: int]"
      ]
     },
     "execution_count": 73,
     "metadata": {},
     "output_type": "execute_result"
    }
   ],
   "source": [
    "# cache dataframes\n",
    "socialDF.cache()\n",
    "socialDFpq.cache()\n",
    "\n",
    "# remove from cache\n",
    "#socialDF.unpersist()\n",
    "#socialDFpq.unpersist()"
   ]
  },
  {
   "cell_type": "code",
   "execution_count": 74,
   "metadata": {},
   "outputs": [
    {
     "name": "stdout",
     "output_type": "stream",
     "text": [
      "+--------+---------+\n",
      "|followed|followers|\n",
      "+--------+---------+\n",
      "|    1503|    51386|\n",
      "|     206|    48414|\n",
      "|      88|    45221|\n",
      "|     138|    44188|\n",
      "|    1062|    40120|\n",
      "+--------+---------+\n",
      "only showing top 5 rows\n",
      "\n",
      "CPU times: user 9.29 ms, sys: 778 µs, total: 10.1 ms\n",
      "Wall time: 33.8 s\n"
     ]
    }
   ],
   "source": [
    "%%time\n",
    "# GZIP Compressed CSV (dataframe cached)\n",
    "socialDF.groupBy(\"followed\").agg(count(\"followed\").alias(\"followers\")).orderBy(desc(\"followers\")).show(5)"
   ]
  },
  {
   "cell_type": "code",
   "execution_count": 75,
   "metadata": {},
   "outputs": [
    {
     "name": "stdout",
     "output_type": "stream",
     "text": [
      "+--------+---------+\n",
      "|followed|followers|\n",
      "+--------+---------+\n",
      "|    1503|    51386|\n",
      "|     206|    48414|\n",
      "|      88|    45221|\n",
      "|     138|    44188|\n",
      "|    1062|    40120|\n",
      "+--------+---------+\n",
      "only showing top 5 rows\n",
      "\n",
      "CPU times: user 8.12 ms, sys: 680 µs, total: 8.8 ms\n",
      "Wall time: 13.1 s\n"
     ]
    }
   ],
   "source": [
    "%%time\n",
    "# Parquet file (dataframe cached)\n",
    "socialDFpq.groupBy(\"followed\").agg(count(\"followed\").alias(\"followers\")).orderBy(desc(\"followers\")).show(5)\n"
   ]
  },
  {
   "cell_type": "code",
   "execution_count": null,
   "metadata": {},
   "outputs": [],
   "source": []
  }
 ],
 "metadata": {
  "kernelspec": {
   "display_name": "Python 3",
   "language": "python",
   "name": "python3"
  },
  "language_info": {
   "codemirror_mode": {
    "name": "ipython",
    "version": 3
   },
   "file_extension": ".py",
   "mimetype": "text/x-python",
   "name": "python",
   "nbconvert_exporter": "python",
   "pygments_lexer": "ipython3",
   "version": "3.8.3"
  }
 },
 "nbformat": 4,
 "nbformat_minor": 4
}
